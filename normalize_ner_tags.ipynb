{
 "cells": [
  {
   "cell_type": "code",
   "execution_count": 3,
   "metadata": {},
   "outputs": [],
   "source": [
    "import pandas as pd\n",
    "import numpy as np"
   ]
  },
  {
   "cell_type": "code",
   "execution_count": 5,
   "metadata": {},
   "outputs": [],
   "source": [
    "datas = pd.read_csv('/home/ubuntu/bert-ner-datasets/ner_combine.csv')"
   ]
  },
  {
   "cell_type": "code",
   "execution_count": 6,
   "metadata": {},
   "outputs": [
    {
     "data": {
      "text/plain": [
       "array(['O', nan, 'I-ORG', 'I-MISC', 'I-PER', 'I-LOC', 'B-LOC', 'B-MISC',\n",
       "       'B-ORG', 'LOCATION', 'ORGANIZATION', 'PERSON', 'MEASURE',\n",
       "       'CARDINAL', 'DATE', 'DURATION', 'MONEY', 'PERCENT', 'TIME',\n",
       "       'Narrator', 'himself).', 'Amendment', 'No.2', 'pandunus', 'time',\n",
       "       'per-tit', 'per-fam', 'gpe-nam', 'org-nam', 'geo-nam', 'tim-dow',\n",
       "       'tim-dat', 'tim-yoc', 'tim-clo', 'tim-moy', 'per-nam', 'per-giv',\n",
       "       'nat-nam', 'eve-nam', 'art-nam', 'eve-ord', 'org-leg', 'per-ini',\n",
       "       'tim-nam', 'per-ord', 'tim-dom', 'art-add', 'per-mid', 'event',\n",
       "       'abstract', 'object', 'organization', 'person', 'quantity',\n",
       "       'plant', 'place', 'substance', 'animal', 'B-geo-loc', 'B-facility',\n",
       "       'I-facility', 'B-movie', 'I-movie', 'B-company', 'B-product',\n",
       "       'B-person', 'B-other', 'I-other', 'B-sportsteam', 'I-sportsteam',\n",
       "       'I-product', 'I-company', 'I-person', 'I-geo-loc', 'B-tvshow',\n",
       "       'B-musicartist', 'I-musicartist', 'I-tvshow', 'B-PER',\n",
       "       'B-location', 'I-location', 'B-group', 'B-corporation',\n",
       "       'B-creative-work', 'I-creative-work', 'I-corporation', 'I-group',\n",
       "       'B-Temporal', 'I-Temporal', 'B-Organisation', 'I-Organisation',\n",
       "       'B-Person', 'I-Person', 'B-Location', 'I-Location',\n",
       "       'B-DocumentReference', 'I-DocumentReference', 'B-Weapon',\n",
       "       'I-Weapon', 'B-Nationality', 'B-Money', 'I-Money',\n",
       "       'B-MilitaryPlatform', 'I-MilitaryPlatform', 'B-Quantity',\n",
       "       'I-Quantity', 'I-Nationality'], dtype=object)"
      ]
     },
     "execution_count": 6,
     "metadata": {},
     "output_type": "execute_result"
    }
   ],
   "source": [
    "datas['ner'].unique()"
   ]
  },
  {
   "cell_type": "code",
   "execution_count": 58,
   "metadata": {},
   "outputs": [],
   "source": [
    "# create dict\n",
    "orig_NER = np.array(['O', np.nan, 'I-ORG', 'I-MISC', 'I-PER', 'I-LOC', 'B-LOC', 'B-MISC',\n",
    "       'B-ORG', 'LOCATION', 'ORGANIZATION', 'PERSON', 'MEASURE',\n",
    "       'CARDINAL', 'DATE', 'DURATION', 'MONEY', 'PERCENT', 'TIME',\n",
    "       'Narrator', 'himself).', 'Amendment', 'No.2', 'pandunus', 'time',\n",
    "       'per-tit', 'per-fam', 'gpe-nam', 'org-nam', 'geo-nam', 'tim-dow',\n",
    "       'tim-dat', 'tim-yoc', 'tim-clo', 'tim-moy', 'per-nam', 'per-giv',\n",
    "       'nat-nam', 'eve-nam', 'art-nam', 'eve-ord', 'org-leg', 'per-ini',\n",
    "       'tim-nam', 'per-ord', 'tim-dom', 'art-add', 'per-mid', 'event',\n",
    "       'abstract', 'object', 'organization', 'person', 'quantity',\n",
    "       'plant', 'place', 'substance', 'animal', 'B-geo-loc', 'B-facility',\n",
    "       'I-facility', 'B-movie', 'I-movie', 'B-company', 'B-product',\n",
    "       'B-person', 'B-other', 'I-other', 'B-sportsteam', 'I-sportsteam',\n",
    "       'I-product', 'I-company', 'I-person', 'I-geo-loc', 'B-tvshow',\n",
    "       'B-musicartist', 'I-musicartist', 'I-tvshow', 'B-PER',\n",
    "       'B-location', 'I-location', 'B-group', 'B-corporation',\n",
    "       'B-creative-work', 'I-creative-work', 'I-corporation', 'I-group',\n",
    "       'B-Temporal', 'I-Temporal', 'B-Organisation', 'I-Organisation',\n",
    "       'B-Person', 'I-Person', 'B-Location', 'I-Location',\n",
    "       'B-DocumentReference', 'I-DocumentReference', 'B-Weapon',\n",
    "       'I-Weapon', 'B-Nationality', 'B-Money', 'I-Money',\n",
    "       'B-MilitaryPlatform', 'I-MilitaryPlatform', 'B-Quantity',\n",
    "       'I-Quantity', 'I-Nationality'])\n",
    "\n",
    "replacement_NER = np.array(['O', np.nan, 'ORG', 'O', 'PER', 'LOC', 'LOC', 'O',\n",
    "       'ORG', 'LOC', 'ORG', 'PER', 'O',\n",
    "       'O', 'O', 'O', 'O', 'O', 'O',\n",
    "       'O', 'O', 'O', 'O', 'O', 'O',\n",
    "       'PER', 'PER', 'O', 'ORG', 'LOC', 'O',\n",
    "       'O', 'O', 'O', 'O', 'PER', 'PER',\n",
    "       'O', 'O', 'O', 'O', 'ORG', 'PER',\n",
    "       'O', 'PER', 'O', 'O', 'PER', 'O',\n",
    "       'O', 'O', 'ORG', 'PER', 'O',\n",
    "       'O', 'LOC', 'O', 'O', 'LOC', 'LOC',\n",
    "       'LOC', 'O', 'O', 'ORG', 'O',\n",
    "       'PER', 'O', 'O', 'O', 'O',\n",
    "       'O', 'ORG', 'PER', 'LOC', 'O',\n",
    "       'O', 'O', 'O', 'PER',\n",
    "       'LOC', 'LOC', 'ORG', 'ORG',\n",
    "       'O', 'O', 'ORG', 'ORG',\n",
    "       'O', 'O', 'ORG', 'ORG',\n",
    "       'PER', 'PER', 'LOC', 'LOC',\n",
    "       'O', 'O', 'O',\n",
    "       'O', 'O', 'O', 'O',\n",
    "       'O', 'O', 'O',\n",
    "       'O', 'O'])"
   ]
  },
  {
   "cell_type": "code",
   "execution_count": 59,
   "metadata": {},
   "outputs": [],
   "source": [
    "# dataframe it\n",
    "df = pd.DataFrame({'orig':orig_NER, 'repl':replacement_NER})"
   ]
  },
  {
   "cell_type": "code",
   "execution_count": 60,
   "metadata": {},
   "outputs": [],
   "source": [
    "# replace vals\n",
    "new_tags = datas['ner'].map(df.set_index('orig')['repl'])"
   ]
  },
  {
   "cell_type": "code",
   "execution_count": 61,
   "metadata": {},
   "outputs": [],
   "source": [
    "vals = list(new_tags)"
   ]
  },
  {
   "cell_type": "code",
   "execution_count": 62,
   "metadata": {},
   "outputs": [
    {
     "data": {
      "text/plain": [
       "{'LOC', 'O', 'ORG', 'PER', nan}"
      ]
     },
     "execution_count": 62,
     "metadata": {},
     "output_type": "execute_result"
    }
   ],
   "source": [
    "set(list(vals))"
   ]
  },
  {
   "cell_type": "code",
   "execution_count": 63,
   "metadata": {},
   "outputs": [],
   "source": [
    "vals = pd.concat([datas['token'], new_tags], axis=1, keys=['token','ner'])"
   ]
  },
  {
   "cell_type": "code",
   "execution_count": 65,
   "metadata": {},
   "outputs": [],
   "source": [
    "#replace nans with ''\n",
    "vals = vals.fillna('')"
   ]
  },
  {
   "cell_type": "code",
   "execution_count": 66,
   "metadata": {},
   "outputs": [],
   "source": [
    "#save dataframe out\n",
    "vals = vals.reset_index()[['token','ner']]\n",
    "work_data = vals.copy()"
   ]
  },
  {
   "cell_type": "code",
   "execution_count": 67,
   "metadata": {},
   "outputs": [
    {
     "data": {
      "text/plain": [
       "{'', 'LOC', 'O', 'ORG', 'PER'}"
      ]
     },
     "execution_count": 67,
     "metadata": {},
     "output_type": "execute_result"
    }
   ],
   "source": [
    "set(list(work_data['ner']))"
   ]
  },
  {
   "cell_type": "code",
   "execution_count": 69,
   "metadata": {},
   "outputs": [],
   "source": [
    "work_data.to_csv('testing.csv')"
   ]
  },
  {
   "cell_type": "code",
   "execution_count": 118,
   "metadata": {},
   "outputs": [],
   "source": [
    "def write_to_disk(df_in, data_file_out):\n",
    "    inx_not_exist=[]\n",
    "    file = open(data_file_out, \"w\")\n",
    "    for index in range(len(df_in)):\n",
    "        if df_in['ner'][index] == '':\n",
    "            file.write('\\n')\n",
    "            continue\n",
    "        try:\n",
    "            file.write(str(df_in['token'][index]) + \" \" + str(df_in['ner'][index]) + \"\\n\")\n",
    "        except:\n",
    "            inx_not_exist.append(index)\n",
    "            continue\n",
    "    file.close()\n",
    "    return inx_not_exist"
   ]
  },
  {
   "cell_type": "code",
   "execution_count": 73,
   "metadata": {},
   "outputs": [
    {
     "data": {
      "text/plain": [
       "(2459768, 2)"
      ]
     },
     "execution_count": 73,
     "metadata": {},
     "output_type": "execute_result"
    }
   ],
   "source": [
    "work_data.shape"
   ]
  },
  {
   "cell_type": "code",
   "execution_count": 119,
   "metadata": {},
   "outputs": [],
   "source": [
    "didnt_find1 = write_to_disk(work_data[0:1967814].reset_index(), 'train.txt')\n",
    "#didnt_find2 = write_to_disk(datas[778204:972755], 'valid.txt')"
   ]
  },
  {
   "cell_type": "code",
   "execution_count": 120,
   "metadata": {},
   "outputs": [],
   "source": [
    "didnt_find2 = write_to_disk(work_data[1967814:2459768].reset_index(), 'valid.txt')"
   ]
  },
  {
   "cell_type": "code",
   "execution_count": 122,
   "metadata": {},
   "outputs": [
    {
     "data": {
      "text/plain": [
       "[]"
      ]
     },
     "execution_count": 122,
     "metadata": {},
     "output_type": "execute_result"
    }
   ],
   "source": [
    "didnt_find2"
   ]
  },
  {
   "cell_type": "code",
   "execution_count": null,
   "metadata": {},
   "outputs": [],
   "source": []
  },
  {
   "cell_type": "code",
   "execution_count": null,
   "metadata": {},
   "outputs": [],
   "source": []
  },
  {
   "cell_type": "code",
   "execution_count": null,
   "metadata": {},
   "outputs": [],
   "source": []
  },
  {
   "cell_type": "code",
   "execution_count": 123,
   "metadata": {},
   "outputs": [],
   "source": [
    "f = open(\"valid.txt\", \"r\")"
   ]
  },
  {
   "cell_type": "code",
   "execution_count": 188,
   "metadata": {},
   "outputs": [
    {
     "data": {
      "text/plain": [
       "'Both O\\n'"
      ]
     },
     "execution_count": 188,
     "metadata": {},
     "output_type": "execute_result"
    }
   ],
   "source": [
    "nxt_line = f.readline()\n",
    "nxt_line"
   ]
  },
  {
   "cell_type": "code",
   "execution_count": null,
   "metadata": {},
   "outputs": [],
   "source": []
  },
  {
   "cell_type": "code",
   "execution_count": null,
   "metadata": {},
   "outputs": [],
   "source": []
  },
  {
   "cell_type": "code",
   "execution_count": null,
   "metadata": {},
   "outputs": [],
   "source": []
  },
  {
   "cell_type": "code",
   "execution_count": null,
   "metadata": {},
   "outputs": [],
   "source": []
  }
 ],
 "metadata": {
  "kernelspec": {
   "display_name": "Python 3",
   "language": "python",
   "name": "python3"
  },
  "language_info": {
   "codemirror_mode": {
    "name": "ipython",
    "version": 3
   },
   "file_extension": ".py",
   "mimetype": "text/x-python",
   "name": "python",
   "nbconvert_exporter": "python",
   "pygments_lexer": "ipython3",
   "version": "3.5.2"
  }
 },
 "nbformat": 4,
 "nbformat_minor": 2
}
